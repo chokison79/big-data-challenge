{
 "cells": [
  {
   "cell_type": "markdown",
   "metadata": {
    "id": "82RxGtAhMt6U"
   },
   "source": [
    "# NLP Pipeline - Tokenization\n",
    "\n",
    "In this notebook, we will see how to use pyspark's Tokenizer. The tokenizer converts an input string to lowercase and then splits it by white spaces.\n",
    "\n",
    "[Docs](https://spark.apache.org/docs/latest/api/python/reference/api/pyspark.ml.feature.Tokenizer.html)\n",
    "\n",
    "\n",
    "## 1. Setup\n",
    "\n",
    "If you are using google collab, do not forget to install spark first!"
   ]
  },
  {
   "cell_type": "code",
   "execution_count": 1,
   "metadata": {
    "colab": {
     "base_uri": "https://localhost:8080/"
    },
    "executionInfo": {
     "elapsed": 40226,
     "status": "ok",
     "timestamp": 1636889205050,
     "user": {
      "displayName": "Maria Inês Silva",
      "photoUrl": "https://lh3.googleusercontent.com/a-/AOh14Gg0i4Q44VtKP_r0KLlyYt5Fyz5McGl4h1xRhZfgLA=s64",
      "userId": "06996712618314633200"
     },
     "user_tz": 0
    },
    "id": "8Ba5cHmgjpn7",
    "outputId": "87973311-a38d-42b1-944a-c5e635c8a1e1"
   },
   "outputs": [],
   "source": [
    "# Make Spark session \"findable\"\n",
    "import findspark\n",
    "findspark.init()"
   ]
  },
  {
   "cell_type": "code",
   "execution_count": 2,
   "metadata": {
    "executionInfo": {
     "elapsed": 6498,
     "status": "ok",
     "timestamp": 1636889211541,
     "user": {
      "displayName": "Maria Inês Silva",
      "photoUrl": "https://lh3.googleusercontent.com/a-/AOh14Gg0i4Q44VtKP_r0KLlyYt5Fyz5McGl4h1xRhZfgLA=s64",
      "userId": "06996712618314633200"
     },
     "user_tz": 0
    },
    "id": "1mX69bCUMdDu"
   },
   "outputs": [
    {
     "name": "stderr",
     "output_type": "stream",
     "text": [
      "21/11/14 12:40:37 WARN Utils: Your hostname, Marias-MacBook-Air.local resolves to a loopback address: 127.0.0.1; using 192.168.141.13 instead (on interface en0)\n",
      "21/11/14 12:40:37 WARN Utils: Set SPARK_LOCAL_IP if you need to bind to another address\n",
      "WARNING: An illegal reflective access operation has occurred\n",
      "WARNING: Illegal reflective access by org.apache.spark.unsafe.Platform (file:/opt/homebrew/Cellar/apache-spark/3.2.0/libexec/jars/spark-unsafe_2.12-3.2.0.jar) to constructor java.nio.DirectByteBuffer(long,int)\n",
      "WARNING: Please consider reporting this to the maintainers of org.apache.spark.unsafe.Platform\n",
      "WARNING: Use --illegal-access=warn to enable warnings of further illegal reflective access operations\n",
      "WARNING: All illegal access operations will be denied in a future release\n",
      "Using Spark's default log4j profile: org/apache/spark/log4j-defaults.properties\n",
      "Setting default log level to \"WARN\".\n",
      "To adjust logging level use sc.setLogLevel(newLevel). For SparkR, use setLogLevel(newLevel).\n",
      "21/11/14 12:40:38 WARN NativeCodeLoader: Unable to load native-hadoop library for your platform... using builtin-java classes where applicable\n"
     ]
    }
   ],
   "source": [
    "# Start Spark session\n",
    "from pyspark.sql import SparkSession\n",
    "spark = SparkSession.builder.appName(\"NLPTokens\").getOrCreate()"
   ]
  },
  {
   "cell_type": "code",
   "execution_count": 3,
   "metadata": {
    "executionInfo": {
     "elapsed": 4,
     "status": "ok",
     "timestamp": 1636889211541,
     "user": {
      "displayName": "Maria Inês Silva",
      "photoUrl": "https://lh3.googleusercontent.com/a-/AOh14Gg0i4Q44VtKP_r0KLlyYt5Fyz5McGl4h1xRhZfgLA=s64",
      "userId": "06996712618314633200"
     },
     "user_tz": 0
    },
    "id": "XyUv4abqjkof"
   },
   "outputs": [],
   "source": [
    "from pyspark.ml.feature import Tokenizer\n",
    "from pyspark.sql.functions import col, udf\n",
    "from pyspark.sql.types import IntegerType"
   ]
  },
  {
   "cell_type": "markdown",
   "metadata": {
    "id": "r6w5XvxCM5-J"
   },
   "source": [
    "## 2. Import data"
   ]
  },
  {
   "cell_type": "code",
   "execution_count": 4,
   "metadata": {
    "executionInfo": {
     "elapsed": 3051,
     "status": "ok",
     "timestamp": 1636889214590,
     "user": {
      "displayName": "Maria Inês Silva",
      "photoUrl": "https://lh3.googleusercontent.com/a-/AOh14Gg0i4Q44VtKP_r0KLlyYt5Fyz5McGl4h1xRhZfgLA=s64",
      "userId": "06996712618314633200"
     },
     "user_tz": 0
    },
    "id": "QHYBC46Xjkom"
   },
   "outputs": [],
   "source": [
    "# Create sample DataFrame\n",
    "dataframe = spark.createDataFrame([\n",
    "    (0, \"Spark is great\"),\n",
    "    (1, \"We are learning Spark\"),\n",
    "    (2, \"Spark is better than hadoop no doubt\")\n",
    "], [\"id\", \"sentence\"])"
   ]
  },
  {
   "cell_type": "code",
   "execution_count": 5,
   "metadata": {
    "colab": {
     "base_uri": "https://localhost:8080/"
    },
    "executionInfo": {
     "elapsed": 3686,
     "status": "ok",
     "timestamp": 1636889218272,
     "user": {
      "displayName": "Maria Inês Silva",
      "photoUrl": "https://lh3.googleusercontent.com/a-/AOh14Gg0i4Q44VtKP_r0KLlyYt5Fyz5McGl4h1xRhZfgLA=s64",
      "userId": "06996712618314633200"
     },
     "user_tz": 0
    },
    "id": "DqpXq9MQjkoq",
    "outputId": "e1da86af-1e7c-4a0c-985e-86406bfcde68"
   },
   "outputs": [
    {
     "name": "stdout",
     "output_type": "stream",
     "text": [
      "+---+--------------------+\n",
      "| id|            sentence|\n",
      "+---+--------------------+\n",
      "|  0|      Spark is great|\n",
      "|  1|We are learning S...|\n",
      "|  2|Spark is better t...|\n",
      "+---+--------------------+\n",
      "\n"
     ]
    }
   ],
   "source": [
    "# Show DataFrame\n",
    "dataframe.show()"
   ]
  },
  {
   "cell_type": "markdown",
   "metadata": {
    "id": "QlTR98LaM8mJ"
   },
   "source": [
    "## 3. Apply tokenizer"
   ]
  },
  {
   "cell_type": "code",
   "execution_count": 6,
   "metadata": {
    "colab": {
     "base_uri": "https://localhost:8080/"
    },
    "executionInfo": {
     "elapsed": 282,
     "status": "ok",
     "timestamp": 1636889273001,
     "user": {
      "displayName": "Maria Inês Silva",
      "photoUrl": "https://lh3.googleusercontent.com/a-/AOh14Gg0i4Q44VtKP_r0KLlyYt5Fyz5McGl4h1xRhZfgLA=s64",
      "userId": "06996712618314633200"
     },
     "user_tz": 0
    },
    "id": "O7wJU0_Cjkow",
    "outputId": "81691de8-d1ea-4137-9f8d-cabef1665b87"
   },
   "outputs": [
    {
     "data": {
      "text/plain": [
       "Tokenizer_59588399feaa"
      ]
     },
     "execution_count": 6,
     "metadata": {},
     "output_type": "execute_result"
    }
   ],
   "source": [
    "# Tokenize word\n",
    "tokenizer = Tokenizer(inputCol=\"sentence\", outputCol=\"words\")\n",
    "tokenizer"
   ]
  },
  {
   "cell_type": "code",
   "execution_count": 7,
   "metadata": {
    "colab": {
     "base_uri": "https://localhost:8080/"
    },
    "executionInfo": {
     "elapsed": 564,
     "status": "ok",
     "timestamp": 1636889331248,
     "user": {
      "displayName": "Maria Inês Silva",
      "photoUrl": "https://lh3.googleusercontent.com/a-/AOh14Gg0i4Q44VtKP_r0KLlyYt5Fyz5McGl4h1xRhZfgLA=s64",
      "userId": "06996712618314633200"
     },
     "user_tz": 0
    },
    "id": "xHYnBPMqjko0",
    "outputId": "e54a56de-32e0-4fdc-e4fa-c247363632dc"
   },
   "outputs": [
    {
     "name": "stdout",
     "output_type": "stream",
     "text": [
      "+---+--------------------+--------------------+\n",
      "| id|            sentence|               words|\n",
      "+---+--------------------+--------------------+\n",
      "|  0|      Spark is great|  [spark, is, great]|\n",
      "|  1|We are learning S...|[we, are, learnin...|\n",
      "|  2|Spark is better t...|[spark, is, bette...|\n",
      "+---+--------------------+--------------------+\n",
      "\n"
     ]
    }
   ],
   "source": [
    "# Transform and show DataFrame\n",
    "tokenized = tokenizer.transform(dataframe)\n",
    "tokenized.show()"
   ]
  },
  {
   "cell_type": "code",
   "execution_count": 8,
   "metadata": {
    "colab": {
     "base_uri": "https://localhost:8080/"
    },
    "executionInfo": {
     "elapsed": 270,
     "status": "ok",
     "timestamp": 1636889332490,
     "user": {
      "displayName": "Maria Inês Silva",
      "photoUrl": "https://lh3.googleusercontent.com/a-/AOh14Gg0i4Q44VtKP_r0KLlyYt5Fyz5McGl4h1xRhZfgLA=s64",
      "userId": "06996712618314633200"
     },
     "user_tz": 0
    },
    "id": "k92zPWKjkGzp",
    "outputId": "6c1b383f-6ab5-430a-87dc-e0abae6685af"
   },
   "outputs": [
    {
     "name": "stdout",
     "output_type": "stream",
     "text": [
      "+---+------------------------------------+--------------------------------------------+\n",
      "|id |sentence                            |words                                       |\n",
      "+---+------------------------------------+--------------------------------------------+\n",
      "|0  |Spark is great                      |[spark, is, great]                          |\n",
      "|1  |We are learning Spark               |[we, are, learning, spark]                  |\n",
      "|2  |Spark is better than hadoop no doubt|[spark, is, better, than, hadoop, no, doubt]|\n",
      "+---+------------------------------------+--------------------------------------------+\n",
      "\n"
     ]
    }
   ],
   "source": [
    "# Show the entire column content\n",
    "tokenized.show(truncate=False)"
   ]
  }
 ],
 "metadata": {
  "colab": {
   "name": "nlp_tokens.ipynb",
   "provenance": []
  },
  "kernelspec": {
   "display_name": "Python 3 (ipykernel)",
   "language": "python",
   "name": "python3"
  },
  "language_info": {
   "codemirror_mode": {
    "name": "ipython",
    "version": 3
   },
   "file_extension": ".py",
   "mimetype": "text/x-python",
   "name": "python",
   "nbconvert_exporter": "python",
   "pygments_lexer": "ipython3",
   "version": "3.8.10"
  },
  "varInspector": {
   "cols": {
    "lenName": 16,
    "lenType": 16,
    "lenVar": 40
   },
   "kernels_config": {
    "python": {
     "delete_cmd_postfix": "",
     "delete_cmd_prefix": "del ",
     "library": "var_list.py",
     "varRefreshCmd": "print(var_dic_list())"
    },
    "r": {
     "delete_cmd_postfix": ") ",
     "delete_cmd_prefix": "rm(",
     "library": "var_list.r",
     "varRefreshCmd": "cat(var_dic_list()) "
    }
   },
   "types_to_exclude": [
    "module",
    "function",
    "builtin_function_or_method",
    "instance",
    "_Feature"
   ],
   "window_display": false
  }
 },
 "nbformat": 4,
 "nbformat_minor": 1
}
